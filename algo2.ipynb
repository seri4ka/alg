{
 "cells": [
  {
   "cell_type": "markdown",
   "id": "1f136f09-1b90-4861-aa0e-1b25d3d593d6",
   "metadata": {},
   "source": [
    "# Домашка"
   ]
  },
  {
   "cell_type": "markdown",
   "id": "1e6fd584-8633-44ba-a7d4-6640374b0ffa",
   "metadata": {},
   "source": [
    "1. На вход массив массивов вида [[start_1, end_1], ..., [start_n, end_n]]. Найти максимальную сумму end_i - start_i такую, что отрезки не пересекаются\n",
    "\n",
    "Реализовать произвольный жадный алгоритм для задачи о переговорках (можно несколько). Покрыть тест-кейсами на успешную/не успешную работу алгоритма.\n",
    "\n",
    "    3 балла: успешное решение жадным алгоритмом\n",
    "    \n",
    "    2 балла: решение покрытое тест-кейсами для успешной и не успешной работы\n",
    "    \n",
    "    1 балл: решение просто с какими-то тестами"
   ]
  },
  {
   "cell_type": "code",
   "execution_count": 94,
   "id": "e7ad09aa",
   "metadata": {},
   "outputs": [],
   "source": [
    "import pandas as pd"
   ]
  },
  {
   "cell_type": "code",
   "execution_count": 33,
   "id": "2c4da8c1",
   "metadata": {},
   "outputs": [
    {
     "data": {
      "text/plain": [
       "[[1, 11], [11, 15], [15, 19], [19, 21]]"
      ]
     },
     "execution_count": 33,
     "metadata": {},
     "output_type": "execute_result"
    }
   ],
   "source": [
    "data = [\n",
    "    [1, 2],\n",
    "    [1, 3],\n",
    "    [2, 4],\n",
    "    [3, 5],\n",
    "    [5, 7],\n",
    "    [1, 11],\n",
    "    [3, 6],\n",
    "    [1, 3],\n",
    "    [12, 13],\n",
    "    [14, 18],\n",
    "    [20, 22],\n",
    "    [20, 21],\n",
    "    [20, 21],\n",
    "    [11, 15],\n",
    "    [15, 16],\n",
    "    [15, 19],\n",
    "    [19, 21]\n",
    "]\n",
    "\n",
    "def telling(data):\n",
    "    data.sort(key=lambda x: x[0])\n",
    "    final_data = [[-1, -1]]\n",
    "    for i in range(1, len(data)):\n",
    "        if data[i][0] == data[i - 1][0]:\n",
    "            if data[i][1] < data[i - 1][1]:\n",
    "                data[i][1] = data[i - 1][1]\n",
    "        if data[i][0] != data[i - 1][0] and final_data[-1][1] <= data[i - 1][0]:\n",
    "            final_data.append([data[i - 1][0], data[i - 1][1]])\n",
    "    if final_data[-1][1] <= data[-1][0]:\n",
    "        final_data.append([data[-1][0], data[-1][1]])\n",
    "    final_data.pop(0)\n",
    "    return final_data\n",
    "\n",
    "telling(data)"
   ]
  },
  {
   "cell_type": "code",
   "execution_count": 34,
   "id": "3a538a13",
   "metadata": {},
   "outputs": [],
   "source": [
    "data1 = [[1, 2], [1, 4], [2, 5], [2, 7], [4, 6]]\n",
    "data2 = [[2, 8], [1, 6], [7, 11]]\n",
    "data3 = [[0, 5], [2, 11]]"
   ]
  },
  {
   "cell_type": "code",
   "execution_count": 37,
   "id": "5b71c945",
   "metadata": {},
   "outputs": [],
   "source": [
    "def test1():\n",
    "    assert telling(data1) == [[1, 4], [4, 6]]\n",
    "\n",
    "def test2():\n",
    "    assert telling(data2) == [[1, 6], [7, 11]]\n",
    "\n",
    "def test3():\n",
    "    assert telling(data3) == [[0, 5]]\n",
    "    \n",
    "def test4():\n",
    "    assert telling(data) == [[1, 11], [11, 15], [15, 19], [19, 21]]"
   ]
  },
  {
   "cell_type": "code",
   "execution_count": 38,
   "id": "ab71cc8a",
   "metadata": {},
   "outputs": [],
   "source": [
    "test1()\n",
    "test2()\n",
    "test3()\n",
    "test4()"
   ]
  },
  {
   "cell_type": "markdown",
   "id": "de63ab2e-5e26-4273-91fc-5ea157793529",
   "metadata": {},
   "source": [
    "2. Задача о комнях. Петя и Вася вытягивают камни из двух куч. В одной n, в другой m камней. Первый ходит Петя. Выигрывает тот, кто забирает последний камень. За ход можно взять либо один камень из любой из куч, либо по камню из каждой. Требуется по числам m, n определить может ли Петя детерминированно выиграть.\n",
    "\n",
    "1 балл"
   ]
  },
  {
   "cell_type": "markdown",
   "id": "8af7e6e9",
   "metadata": {},
   "source": [
    "1 2 - В\n",
    "2 2 - П сумма четная\n",
    "2 3 - В сумма нечетная\n",
    "3 3 - В сумма четная\n",
    "2 4 - П сумма четная\n",
    "3 4 - П сумма нечетная\n",
    "2 5 - В сумма нечетная\n",
    "4 4 - В\n"
   ]
  },
  {
   "cell_type": "code",
   "execution_count": 41,
   "id": "5b41814e",
   "metadata": {},
   "outputs": [
    {
     "name": "stdout",
     "output_type": "stream",
     "text": [
      "['L', 'W', 'L', 'W', 'L', 'W', 'L', 'W', 'L', 'W', 'L', 'W']\n",
      "['W', 'W', 'W', 'W', 'W', 'W', 'W', 'W', 'W', 'W', 'W', 'W']\n",
      "['L', 'W', 'L', 'W', 'L', 'W', 'L', 'W', 'L', 'W', 'L', 'W']\n",
      "['W', 'W', 'W', 'W', 'W', 'W', 'W', 'W', 'W', 'W', 'W', 'W']\n",
      "['L', 'W', 'L', 'W', 'L', 'W', 'L', 'W', 'L', 'W', 'L', 'W']\n",
      "['W', 'W', 'W', 'W', 'W', 'W', 'W', 'W', 'W', 'W', 'W', 'W']\n",
      "['L', 'W', 'L', 'W', 'L', 'W', 'L', 'W', 'L', 'W', 'L', 'W']\n",
      "['W', 'W', 'W', 'W', 'W', 'W', 'W', 'W', 'W', 'W', 'W', 'W']\n",
      "['L', 'W', 'L', 'W', 'L', 'W', 'L', 'W', 'L', 'W', 'L', 'W']\n",
      "['W', 'W', 'W', 'W', 'W', 'W', 'W', 'W', 'W', 'W', 'W', 'W']\n",
      "['L', 'W', 'L', 'W', 'L', 'W', 'L', 'W', 'L', 'W', 'L', 'W']\n",
      "['W', 'W', 'W', 'W', 'W', 'W', 'W', 'W', 'W', 'W', 'W', 'W']\n",
      "['L', 'W', 'L', 'W', 'L', 'W', 'L', 'W', 'L', 'W', 'L', 'W']\n",
      "['W', 'W', 'W', 'W', 'W', 'W', 'W', 'W', 'W', 'W', 'W', 'W']\n",
      "['L', 'W', 'L', 'W', 'L', 'W', 'L', 'W', 'L', 'W', 'L', 'W']\n",
      "['W', 'W', 'W', 'W', 'W', 'W', 'W', 'W', 'W', 'W', 'W', 'W']\n",
      "['L', 'W', 'L', 'W', 'L', 'W', 'L', 'W', 'L', 'W', 'L', 'W']\n",
      "['W', 'W', 'W', 'W', 'W', 'W', 'W', 'W', 'W', 'W', 'W', 'W']\n",
      "['L', 'W', 'L', 'W', 'L', 'W', 'L', 'W', 'L', 'W', 'L', 'W']\n",
      "['W', 'W', 'W', 'W', 'W', 'W', 'W', 'W', 'W', 'W', 'W', 'W']\n",
      "['L', 'W', 'L', 'W', 'L', 'W', 'L', 'W', 'L', 'W', 'L', 'W']\n",
      "['W', 'W', 'W', 'W', 'W', 'W', 'W', 'W', 'W', 'W', 'W', 'W']\n",
      "['L', 'W', 'L', 'W', 'L', 'W', 'L', 'W', 'L', 'W', 'L', 'W']\n",
      "['W', 'W', 'W', 'W', 'W', 'W', 'W', 'W', 'W', 'W', 'W', 'W']\n",
      "['L', 'W', 'L', 'W', 'L', 'W', 'L', 'W', 'L', 'W', 'L', 'W']\n",
      "['W', 'W', 'W', 'W', 'W', 'W', 'W', 'W', 'W', 'W', 'W', 'W']\n",
      "['L', 'W', 'L', 'W', 'L', 'W', 'L', 'W', 'L', 'W', 'L', 'W']\n",
      "['W', 'W', 'W', 'W', 'W', 'W', 'W', 'W', 'W', 'W', 'W', 'W']\n",
      "['L', 'W', 'L', 'W', 'L', 'W', 'L', 'W', 'L', 'W', 'L', 'W']\n",
      "['W', 'W', 'W', 'W', 'W', 'W', 'W', 'W', 'W', 'W', 'W', 'W']\n",
      "['L', 'W', 'L', 'W', 'L', 'W', 'L', 'W', 'L', 'W', 'L', 'W']\n",
      "['W', 'W', 'W', 'W', 'W', 'W', 'W', 'W', 'W', 'W', 'W', 'W']\n",
      "['L', 'W', 'L', 'W', 'L', 'W', 'L', 'W', 'L', 'W', 'L', 'W']\n",
      "['W', 'W', 'W', 'W', 'W', 'W', 'W', 'W', 'W', 'W', 'W', 'W']\n",
      "['L', 'W', 'L', 'W', 'L', 'W', 'L', 'W', 'L', 'W', 'L', 'W']\n",
      "['W', 'W', 'W', 'W', 'W', 'W', 'W', 'W', 'W', 'W', 'W', 'W']\n",
      "['L', 'W', 'L', 'W', 'L', 'W', 'L', 'W', 'L', 'W', 'L', 'W']\n",
      "['W', 'W', 'W', 'W', 'W', 'W', 'W', 'W', 'W', 'W', 'W', 'W']\n",
      "['L', 'W', 'L', 'W', 'L', 'W', 'L', 'W', 'L', 'W', 'L', 'W']\n",
      "['W', 'W', 'W', 'W', 'W', 'W', 'W', 'W', 'W', 'W', 'W', 'W']\n",
      "['L', 'W', 'L', 'W', 'L', 'W', 'L', 'W', 'L', 'W', 'L', 'W']\n",
      "['W', 'W', 'W', 'W', 'W', 'W', 'W', 'W', 'W', 'W', 'W', 'W']\n",
      "['L', 'W', 'L', 'W', 'L', 'W', 'L', 'W', 'L', 'W', 'L', 'W']\n",
      "['W', 'W', 'W', 'W', 'W', 'W', 'W', 'W', 'W', 'W', 'W', 'W']\n",
      "['L', 'W', 'L', 'W', 'L', 'W', 'L', 'W', 'L', 'W', 'L', 'W']\n",
      "['W', 'W', 'W', 'W', 'W', 'W', 'W', 'W', 'W', 'W', 'W', 'W']\n",
      "W\n"
     ]
    }
   ],
   "source": [
    "x, y = map(int, input().split())\n",
    "\n",
    "n = x + 1\n",
    "m = y + 1\n",
    "res = [[0 for j in range(m)] for i in range(n)]\n",
    "res[0][0] = 'L'\n",
    "\n",
    "for i in range(1, n):\n",
    "    if res[i-1][0] == 'W':\n",
    "        res[i][0] = 'L'\n",
    "    else:\n",
    "        res[i][0] = 'W'\n",
    "\n",
    "for j in range(1, m):\n",
    "    if res[0][j-1] == 'W':\n",
    "        res[0][j] = 'L'\n",
    "    else:\n",
    "        res[0][j] = 'W'\n",
    "\n",
    "\n",
    "for i in range(1, n):\n",
    "    for j in range(1, m):\n",
    "        if res[i-1][j-1]=='W' and res[i][j-1]=='W' and res[i-1][j]=='W':\n",
    "            res[i][j] = 'L'\n",
    "        else:\n",
    "            res[i][j] = 'W'\n",
    "\n",
    "for i in range(n):\n",
    "    print(res[i])\n",
    "print(res[n-1][m-1])"
   ]
  },
  {
   "cell_type": "markdown",
   "id": "f8ad595b-ec2b-4514-90fe-8891b29ed8fd",
   "metadata": {},
   "source": [
    "3. Ханойские башни. Нужно рекурсивное решение (https://ru.wikipedia.org/wiki/%D0%A5%D0%B0%D0%BD%D0%BE%D0%B9%D1%81%D0%BA%D0%B0%D1%8F_%D0%B1%D0%B0%D1%88%D0%BD%D1%8F)\n",
    "\n",
    "2 балла"
   ]
  },
  {
   "cell_type": "code",
   "execution_count": 57,
   "id": "cfa45a61",
   "metadata": {},
   "outputs": [
    {
     "name": "stdout",
     "output_type": "stream",
     "text": [
      "Перемещаем диск 1 с A на B\n",
      "Перемещаем диск 2 с A на C\n",
      "Перемещаем диск 1 с B на C\n",
      "Перемещаем диск 3 с A на B\n",
      "Перемещаем диск 1 с C на A\n",
      "Перемещаем диск 2 с C на B\n",
      "Перемещаем диск 1 с A на B\n"
     ]
    }
   ],
   "source": [
    "def Hanoi_Tower(n, A, B, C):\n",
    "    if n == 1:\n",
    "        print('Перемещаем диск 1 с', A, 'на', B)\n",
    "        return None\n",
    "    Hanoi_Tower(n - 1, A, C, B)\n",
    "    print('Перемещаем диск', n, 'с', A, 'на', B)\n",
    "    Hanoi_Tower(n - 1, C, B, A)\n",
    "\n",
    "Hanoi_Tower(3, \"A\", \"B\", \"C\")"
   ]
  },
  {
   "cell_type": "markdown",
   "id": "f99e3f7b-6b11-4926-8e88-97b1019bb85c",
   "metadata": {},
   "source": [
    "4. Найти объем шара радиусом 1 с цетром (0, 0) методом Монте-Карло на сетке [-1,1]^3, засечь время и точность (1 балл).\n",
    "Найти объем того же шара на некотором усеченном пространстве. Сравнить результаты (2 балла)"
   ]
  },
  {
   "cell_type": "code",
   "execution_count": 27,
   "id": "c4e81c9f",
   "metadata": {},
   "outputs": [],
   "source": [
    "import random\n",
    "import time\n",
    "import math"
   ]
  },
  {
   "cell_type": "code",
   "execution_count": 23,
   "id": "ffeaa6de",
   "metadata": {},
   "outputs": [
    {
     "name": "stdout",
     "output_type": "stream",
     "text": [
      "res: 4.344\n",
      "time: 0.0019989013671875\n",
      "1000\n",
      "------------------\n",
      "res: 4.1696\n",
      "time: 0.04241156578063965\n",
      "10000\n",
      "------------------\n",
      "res: 4.18592\n",
      "time: 0.32686519622802734\n",
      "100000\n",
      "------------------\n",
      "res: 4.191912\n",
      "time: 3.2585692405700684\n",
      "1000000\n",
      "------------------\n",
      "res: 4.1899472\n",
      "time: 27.946783304214478\n",
      "10000000\n",
      "------------------\n"
     ]
    }
   ],
   "source": [
    "def mntk(n):\n",
    "    count = 0\n",
    "    start = time.time()\n",
    "    for i in range(n):\n",
    "        x, y, z = random.uniform(-1, 1), random.uniform(-1, 1), random.uniform(-1, 1)\n",
    "        if x ** 2 + y ** 2 + z ** 2 <= 1:\n",
    "            count += 1\n",
    "    end = time.time()\n",
    "    time_d = end - start\n",
    "\n",
    "    print('res:', count  * 8 / n)\n",
    "    print('time:', time_d)\n",
    "\n",
    "a = 1000\n",
    "for i in range(5):\n",
    "    mntk(a)\n",
    "    print(a)\n",
    "    print('------------------')\n",
    "    a *= 10"
   ]
  },
  {
   "cell_type": "code",
   "execution_count": 29,
   "id": "b637e179",
   "metadata": {},
   "outputs": [
    {
     "name": "stdout",
     "output_type": "stream",
     "text": [
      "res: 3.12\n",
      "time: 0.004050016403198242\n",
      "1000\n",
      "------------------\n",
      "res: 3.3448\n",
      "time: 0.03551030158996582\n",
      "10000\n",
      "------------------\n",
      "res: 3.4112\n",
      "time: 0.3715672492980957\n",
      "100000\n",
      "------------------\n",
      "res: 3.39232\n",
      "time: 4.222567319869995\n",
      "1000000\n",
      "------------------\n",
      "res: 3.3903432\n",
      "time: 36.639031171798706\n",
      "10000000\n",
      "------------------\n"
     ]
    }
   ],
   "source": [
    "def mntk_rest(n, a, b):\n",
    "    count = 0\n",
    "    start = time.time()\n",
    "    for i in range(n):\n",
    "        x, y, z = random.uniform(-1 + b, 1 - a), random.uniform(-1 + b, 1 - a), random.uniform(-1 + b, 1 - a)\n",
    "        if x ** 2 + y ** 2 + z ** 2 <= math.sqrt((-1 + a) ** 2 + (1 + b) ** 2):\n",
    "            count += 1\n",
    "    end = time.time()\n",
    "    time_d = end - start\n",
    "\n",
    "    print('res:', count  * 8 / n)\n",
    "    print('time:', time_d)\n",
    "\n",
    "a = 1000\n",
    "for i in range(5):\n",
    "    mntk_rest(a, 0.3, -0.3)\n",
    "    print(a)\n",
    "    print('------------------')\n",
    "    a *= 10"
   ]
  },
  {
   "cell_type": "code",
   "execution_count": null,
   "id": "e23c0044",
   "metadata": {},
   "outputs": [],
   "source": []
  }
 ],
 "metadata": {
  "kernelspec": {
   "display_name": "Python 3 (ipykernel)",
   "language": "python",
   "name": "python3"
  },
  "language_info": {
   "codemirror_mode": {
    "name": "ipython",
    "version": 3
   },
   "file_extension": ".py",
   "mimetype": "text/x-python",
   "name": "python",
   "nbconvert_exporter": "python",
   "pygments_lexer": "ipython3",
   "version": "3.9.7"
  }
 },
 "nbformat": 4,
 "nbformat_minor": 5
}
