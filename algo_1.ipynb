{
 "cells": [
  {
   "cell_type": "markdown",
   "id": "0941210f-a802-4bcf-9e98-b2537078ce82",
   "metadata": {},
   "source": [
    "# Домашка"
   ]
  },
  {
   "cell_type": "markdown",
   "id": "949d8a25-7159-474a-8972-9141ea2ec18b",
   "metadata": {},
   "source": [
    "## 1 балл\n",
    "\n",
    "1. Привести пример альфы и указать сложность алгоритма и пространственную сложность для нее (по элементно и асимптотическую)\n",
    "2. Даны три натуральных числа. Возможно ли построить треугольник с такими сторонами. Если это возможно, выведите строку YES, иначе выведите строку NO. Треугольник — это три точки, не лежащие на одной прямой.\n",
    "3. Решите в целых числах уравнение: $\\sqrt{ax+b} = c$. a, b, c -- данные целые числа. Найти все решения или сообщить, что решений в целых числах нет."
   ]
  },
  {
   "cell_type": "markdown",
   "id": "e8e9c962",
   "metadata": {},
   "source": [
    "### 1"
   ]
  },
  {
   "cell_type": "code",
   "execution_count": 2,
   "id": "dfdc825a",
   "metadata": {},
   "outputs": [],
   "source": [
    "import numpy as np\n",
    "import pandas as pd"
   ]
  },
  {
   "cell_type": "code",
   "execution_count": null,
   "id": "8fdbe33d",
   "metadata": {},
   "outputs": [],
   "source": [
    "def alpha_SMB(close, delta, n):\n",
    "    alpha = pd.DataFrame()\n",
    "    profit = pd.DataFrame()\n",
    "\n",
    "    num = int(len(close) / n)\n",
    "\n",
    "    for i in range(len(close.columns) - 1):\n",
    "        profit[close.columns[i + 1]] = close[close.columns[i + 1]] / close[close.columns[i]] - 1\n",
    "    profit.index = close.index\n",
    "\n",
    "    for i in range(len(profit.columns) - delta):\n",
    "        alpha[profit.columns[i + delta]] = np.where(\n",
    "            profit[profit.columns[i]] <= profit[profit.columns[i]].sort_values()[num],\n",
    "            0.4 / (num + 1),\n",
    "            np.where(\n",
    "                profit[profit.columns[i]] >= profit[profit.columns[i]].sort_values()[len(profit[profit.columns]) - num],\n",
    "                -0.4 / (num + 1),\n",
    "                0\n",
    "                )\n",
    "            )\n",
    "    alpha.index = close.index\n",
    "\n",
    "    return alpha.apply(neutralization).apply(normalization)\n",
    "\n",
    "def neutralization(alpha):\n",
    "    return alpha - alpha.mean()\n",
    "\n",
    "def normalization(alpha):\n",
    "    return alpha / alpha.abs().sum()"
   ]
  },
  {
   "cell_type": "markdown",
   "id": "bc7adc36",
   "metadata": {},
   "source": [
    "1. $len(close) / n$ - пространственная сложность $m$, временная - $1$\n",
    "2. Первый цикл for - пространственная слонжость $2mn$, временная - $n$\n",
    "3. Второй цикл for - пространственная сложность $2mn$, временная - $n$\n",
    "4. Присвоение индексов - пространственная сложность $m$, временная - $1$\n",
    "5. $.apply(neutralization)$ - пространственная сложность $2mn$, временная - $1$\n",
    "6. $.apply(normalization)$ - пространственная сложность $2mn$, временная - $1$\n",
    "\n",
    "Итого: пространственная сложность mn, т.к. опускаем константы,  \n",
    "       временная сложность n, т.к. опускаем константы\n",
    "\n",
    "Сложность в элементарных операциях составляет mn^2\n",
    "\n"
   ]
  },
  {
   "cell_type": "markdown",
   "id": "445a8463",
   "metadata": {},
   "source": [
    "### 2"
   ]
  },
  {
   "cell_type": "code",
   "execution_count": 14,
   "id": "d01eb85f",
   "metadata": {},
   "outputs": [
    {
     "data": {
      "text/plain": [
       "'YES'"
      ]
     },
     "execution_count": 14,
     "metadata": {},
     "output_type": "execute_result"
    }
   ],
   "source": [
    "def triangle(a, b, c):\n",
    "    if a + b > c and b + c > a and a + c > b:\n",
    "        return 'YES'\n",
    "    else:\n",
    "        return 'NO'\n",
    "\n",
    "\n",
    "triangle(1, 1, 1)"
   ]
  },
  {
   "cell_type": "markdown",
   "id": "e6498a9b",
   "metadata": {},
   "source": [
    "### 3"
   ]
  },
  {
   "cell_type": "code",
   "execution_count": 110,
   "id": "b54d492a",
   "metadata": {},
   "outputs": [
    {
     "data": {
      "text/plain": [
       "'NO SOLUTION'"
      ]
     },
     "execution_count": 110,
     "metadata": {},
     "output_type": "execute_result"
    }
   ],
   "source": [
    "def equation(a, b, c):\n",
    "    if c >= 0 and a != 0 and (c ** 2 - b) / a == int((c ** 2 - b) / a):\n",
    "        return int((c ** 2 - b) / a)\n",
    "    elif a == 0 and b == c ** 2:\n",
    "        return \"MANY SOLUTIONS\"\n",
    "    else:\n",
    "        return \"NO SOLUTION\"\n",
    "\n",
    "equation(1, 2, -3)"
   ]
  },
  {
   "cell_type": "markdown",
   "id": "05656611-6cc8-41af-8eb0-79dd09308f68",
   "metadata": {},
   "source": [
    "____"
   ]
  },
  {
   "cell_type": "markdown",
   "id": "e93493ce-c80f-403a-96ef-a16c930d35cd",
   "metadata": {},
   "source": [
    "## 2 балла"
   ]
  },
  {
   "cell_type": "markdown",
   "id": "7bd7c03a-7de1-4949-992b-c00db55d716f",
   "metadata": {},
   "source": [
    "4. Бригада скорой помощи выехала по вызову в один из отделенных районов. К сожалению, когда диспетчер получил вызов, он успел записать только адрес дома и номер квартиры K1, а затем связь прервалась. Однако он вспомнил, что по этому же адресу дома некоторое время назад скорая помощь выезжала в квартиру K2, которая расположена в подъезда P2 на этаже N2. Известно, что в доме M этажей и количество квартир на каждой лестничной площадке одинаково. Напишите программу, которая вычилсяет номер подъезда P1 и номер этажа N1 квартиры K1.\n",
    "\n",
    "## Формат ввода\n",
    "\n",
    "Во входном файле записаны пять положительных целых чисел K1, M, K2, P2, N2. Все числа не превосходят 10^6.\n",
    "\n",
    "## Формат вывода\n",
    "\n",
    "Выведите два числа P1 и N1. Если входные данные не позволяют однозначно определить P1 или N1, вместо соответствующего числа напечатайте 0. Если входные данные противоречивы, напечатайте два числа –1 (минус один).\n",
    "\n",
    "### Пример 1\n",
    "\n",
    "Ввод: 89 20 41 1 11\n",
    "Вывод: 2 3\n",
    "\n",
    "### Пример 2\n",
    "\n",
    "Ввод: 11 1 1 1 1\n",
    "Вывод: 0 1\n",
    "\n",
    "### Пример 3\n",
    "\n",
    "Ввод: 3 2 2 2 1\n",
    "Вывод: -1 -1"
   ]
  },
  {
   "cell_type": "code",
   "execution_count": 115,
   "id": "c0361d6e",
   "metadata": {},
   "outputs": [],
   "source": [
    "import math"
   ]
  },
  {
   "cell_type": "code",
   "execution_count": 1,
   "id": "b8f045e3",
   "metadata": {},
   "outputs": [
    {
     "ename": "ValueError",
     "evalue": "not enough values to unpack (expected 5, got 2)",
     "output_type": "error",
     "traceback": [
      "\u001b[1;31m---------------------------------------------------------------------------\u001b[0m",
      "\u001b[1;31mValueError\u001b[0m                                Traceback (most recent call last)",
      "\u001b[1;32m~\\AppData\\Local\\Temp/ipykernel_14968/1879586889.py\u001b[0m in \u001b[0;36m<module>\u001b[1;34m\u001b[0m\n\u001b[1;32m----> 1\u001b[1;33m \u001b[0mk1\u001b[0m\u001b[1;33m,\u001b[0m \u001b[0mm\u001b[0m\u001b[1;33m,\u001b[0m \u001b[0mk2\u001b[0m\u001b[1;33m,\u001b[0m \u001b[0mp2\u001b[0m\u001b[1;33m,\u001b[0m \u001b[0mn2\u001b[0m \u001b[1;33m=\u001b[0m \u001b[0mmap\u001b[0m\u001b[1;33m(\u001b[0m\u001b[0mint\u001b[0m\u001b[1;33m,\u001b[0m \u001b[0minput\u001b[0m\u001b[1;33m(\u001b[0m\u001b[1;33m)\u001b[0m\u001b[1;33m.\u001b[0m\u001b[0msplit\u001b[0m\u001b[1;33m(\u001b[0m\u001b[1;33m)\u001b[0m\u001b[1;33m)\u001b[0m\u001b[1;33m\u001b[0m\u001b[1;33m\u001b[0m\u001b[0m\n\u001b[0m\u001b[0;32m      2\u001b[0m \u001b[1;33m\u001b[0m\u001b[0m\n\u001b[0;32m      3\u001b[0m \u001b[1;32mif\u001b[0m \u001b[0mm\u001b[0m \u001b[1;33m*\u001b[0m \u001b[0mp2\u001b[0m \u001b[1;33m-\u001b[0m \u001b[0mm\u001b[0m \u001b[1;33m+\u001b[0m \u001b[0mn2\u001b[0m \u001b[1;33m==\u001b[0m \u001b[1;36m0\u001b[0m \u001b[1;32mor\u001b[0m \u001b[0mm\u001b[0m \u001b[1;33m*\u001b[0m \u001b[0mp2\u001b[0m \u001b[1;33m-\u001b[0m \u001b[0mm\u001b[0m \u001b[1;33m+\u001b[0m \u001b[0mn2\u001b[0m \u001b[1;33m-\u001b[0m \u001b[1;36m1\u001b[0m \u001b[1;33m==\u001b[0m \u001b[1;36m0\u001b[0m\u001b[1;33m:\u001b[0m\u001b[1;33m\u001b[0m\u001b[1;33m\u001b[0m\u001b[0m\n\u001b[0;32m      4\u001b[0m     \u001b[0mprint\u001b[0m\u001b[1;33m(\u001b[0m\u001b[1;36m0\u001b[0m\u001b[1;33m,\u001b[0m \u001b[0mm\u001b[0m\u001b[1;33m)\u001b[0m\u001b[1;33m\u001b[0m\u001b[1;33m\u001b[0m\u001b[0m\n\u001b[0;32m      5\u001b[0m \u001b[1;32melse\u001b[0m\u001b[1;33m:\u001b[0m\u001b[1;33m\u001b[0m\u001b[1;33m\u001b[0m\u001b[0m\n",
      "\u001b[1;31mValueError\u001b[0m: not enough values to unpack (expected 5, got 2)"
     ]
    }
   ],
   "source": [
    "k1, m, k2, p2, n2 = map(int, input().split())\n",
    "\n",
    "if m * p2 - m + n2 == 0 or m * p2 - m + n2 - 1 == 0:\n",
    "    print(0, m)\n",
    "else:\n",
    "    lower_x = k2 / (m * p2 - m + n2)\n",
    "    higher_x = (k2 - 1) / (m * p2 - m + n2 - 1)\n",
    "    p1 = 1\n",
    "    n1 = 1\n",
    "    ost = k1\n",
    "    if int(higher_x) == math.ceil(lower_x):\n",
    "        x = int(higher_x)\n",
    "        while ost - m * x  > 0:\n",
    "            ost -= (m * x)\n",
    "            p1 += 1\n",
    "        while ost - x > 0:\n",
    "            ost -= x\n",
    "            n1 += 1\n",
    "        print(p1, n1)\n",
    "    else:\n",
    "        print(-1, -1)"
   ]
  },
  {
   "cell_type": "markdown",
   "id": "e0a59c15-02d8-48ac-bacb-ddbb2d22c216",
   "metadata": {},
   "source": [
    "____"
   ]
  },
  {
   "cell_type": "markdown",
   "id": "6637b73d-b9bc-4afc-991a-85747046663a",
   "metadata": {},
   "source": [
    "5. Имеется N кг металлического сплава. Из него изготавливают заготовки массой K кг каждая. После этого из каждой заготовки вытачиваются детали массой M кг каждая (из каждой заготовки вытачивают максимально возможное количество деталей). Если от заготовок после этого что-то остается, то этот материал возвращают к началу производственного цикла и сплавляют с тем, что осталось при изготовлении заготовок. Если того сплава, который получился, достаточно для изготовления хотя бы одной заготовки, то из него снова изготавливают заготовки, из них – детали и т.д. Напишите программу, которая вычислит, какое количество деталей может быть получено по этой технологии из имеющихся исходно N кг сплава.\n",
    "\n",
    "## Формат ввода\n",
    "\n",
    "Вводятся N, K, M. Все числа натуральные и не превосходят 200.\n",
    "\n",
    "## Формат вывода\n",
    "\n",
    "Выведите одно число — количество деталей, которое может получиться по такой технологии.\n",
    "\n",
    "\n",
    "\n",
    "### Пример 1\n",
    "\n",
    "Ввод: 10 5 2\n",
    "Вывод: 4\n",
    "\n",
    "### Пример 2\n",
    "\n",
    "Ввод: 13 5 3\n",
    "Вывод: 3\n",
    "\n",
    "### Пример 3\n",
    "\n",
    "Ввод: 14 5 3\n",
    "Вывод: 4"
   ]
  },
  {
   "cell_type": "code",
   "execution_count": 20,
   "id": "edc09287",
   "metadata": {},
   "outputs": [
    {
     "name": "stdout",
     "output_type": "stream",
     "text": [
      "3\n"
     ]
    }
   ],
   "source": [
    "n, k, m = map(int, input().split())\n",
    "d = 0\n",
    "if k >= m:\n",
    "    while n // k > 0:\n",
    "        ost_zgt = n % k\n",
    "        d += (k // m) * (n // k)\n",
    "        ost_det = (k % m) * (n // k)\n",
    "        n = ost_det + ost_zgt\n",
    "    print(d)\n",
    "else:\n",
    "    print(0)"
   ]
  },
  {
   "cell_type": "markdown",
   "id": "51003ff4-9b7c-415c-8750-11233810db29",
   "metadata": {},
   "source": [
    "____"
   ]
  },
  {
   "cell_type": "markdown",
   "id": "215882b2-8dc4-4c7c-b380-ac0a01bfb221",
   "metadata": {},
   "source": [
    "5. За многие годы заточения узник замка Иф проделал в стене прямоугольное отверстие размером D × E. Замок Иф сложен из кирпичей, размером A × B × C. Определите, сможет ли узник выбрасывать кирпичи в море через это отверстие, если стороны кирпича должны быть параллельны сторонам отверстия.\n",
    "\n",
    "## Формат ввода\n",
    "\n",
    "Программа получает на вход числа A, B, C, D, E.\n",
    "\n",
    "## Формат вывода\n",
    "\n",
    "Программа должна вывести слово YES или NO.\n",
    "\n",
    "### Пример 1\n",
    "\n",
    "Ввод: 1 1 1 1 1 (построчно)\n",
    "\n",
    "Вывод: YES\n",
    "\n",
    "### Пример 2\n",
    "\n",
    "Ввод: 2 2 2 1 1 (построчно)\n",
    "Вывод: NO"
   ]
  },
  {
   "cell_type": "code",
   "execution_count": 114,
   "id": "8e900068",
   "metadata": {},
   "outputs": [
    {
     "name": "stdout",
     "output_type": "stream",
     "text": [
      "YES\n"
     ]
    }
   ],
   "source": [
    "a = int(input())\n",
    "b = int(input())\n",
    "c = int(input())\n",
    "d = int(input())\n",
    "e = int(input())\n",
    "kirp = [a, b, c]\n",
    "kirp = sorted(kirp)\n",
    "otv = [d, e]\n",
    "otv = sorted(otv)\n",
    "if kirp[0] <= otv[0] and kirp[1] <= otv[1]:\n",
    "    print('YES')\n",
    "else:\n",
    "    print('NO')"
   ]
  },
  {
   "cell_type": "markdown",
   "id": "a9b48d13-b4ca-445e-956b-e9458ba64e60",
   "metadata": {},
   "source": [
    "____"
   ]
  },
  {
   "cell_type": "markdown",
   "id": "f4fa9fd1-1127-448c-844a-185fe1ed128e",
   "metadata": {},
   "source": [
    "6. Даны числа $a,b,c,d,e,f$. Решить систему линейных уравнений:\n",
    "\n",
    "$ax+by=e\\\\ cx+dy=f$\n",
    "\n",
    "Учесть все возможные случаи."
   ]
  },
  {
   "cell_type": "markdown",
   "id": "dc9f6cb6",
   "metadata": {},
   "source": [
    "1. Случаи, когда нет решений  \n",
    "$0x + 0y = const, \\; const \\neq 0$ - вырожденная линия, решений не существует  \n",
    "$\\frac{a}{c} = \\frac{b}{d}$  и  $f \\neq e$ и $(a, b, c, d) \\neq 0$ - наклонные непересекающиеся линии, решений не существует  \n",
    "$(b, d) = 0$ и $(a, c) \\neq 0$ и $\\frac{f}{c} \\neq \\frac{e}{a}$ - вертикальные непересекающиеся линии, решений не существует  \n",
    "$(a, c) = 0$ и $(b, d) \\neq 0$ и $\\frac{f}{d} \\neq \\frac{e}{b}$ - горизонтальные непересекаюшиеся линии, решений не существует  \n",
    "  \n",
    "2. Случаи, когда совпадают наклонные линии  \n",
    "$(a, b, c, d, e, f) \\neq 0$ и $\\frac{a}{c} = \\frac{b}{d} = \\frac{e}{f}$  \n",
    "$(a, b, c, d) \\neq 0$ и $\\frac{a}{c} = \\frac{b}{d}$  \n",
    "  \n",
    "3. Случаи, когда совпадают вертикальные линии  \n",
    "$(a, c, e, f) \\neq 0$  и  $(b, d) = 0$ и $\\frac{a}{c} = \\frac{e}{f}$  \n",
    "$(a, c) \\neq 0$ и $(b, d, e, f) = 0$"
   ]
  },
  {
   "cell_type": "code",
   "execution_count": 112,
   "id": "9bf0eaa2",
   "metadata": {},
   "outputs": [
    {
     "name": "stdout",
     "output_type": "stream",
     "text": [
      "5\n"
     ]
    }
   ],
   "source": [
    "# a, b, c, d, e, f = [0, 0, 1, 3, 2, 3] # первая линия вырождена\n",
    "# a, b, c, d, e, f = [1, 1, 0, 0, 1, 3] # вторая линия вырождена\n",
    "# a, b, c, d, e, f = [0, 0, 0, 0, 1, 3] # обе линии вырождены\n",
    "# a, b, c, d, e, f = [1, 1, 2, 2, 1, 3] # две наклонные непересекающиеся линии\n",
    "# a, b, c, d, e, f = [1, 0, 3, 0, 1, 4] # две вертикальные непересекающиеся линии\n",
    "# a, b, c, d, e, f = [0, 1, 0, 1, 1, 3] # две горизонтальные непересекающиеся линии\n",
    "\n",
    "# a, b, c, d, e, f = [1, 1, 3, 3, 1, 3] # две наклонные совпадающие линии\n",
    "# a, b, c, d, e, f = [1, 1, 3, 3, 0, 0] # две наклонные совпадающие линии\n",
    "# a, b, c, d, e, f = [0, 0, 3, 3, 0, 3] # наклонная линия и вся плоскость сл. 1\n",
    "# a, b, c, d, e, f = [1, 1, 0, 0, 0, 0] # наклонная линия и вся плоскость сл. 2\n",
    "# a, b, c, d, e, f = [2, 4, 1, 2, 2, 1]\n",
    "\n",
    "# a, b, c, d, e, f = [1, 0, 3, 0, 1, 3] # две вертикальные совпадающие линии\n",
    "# a, b, c, d, e, f = [1, 0, 5, 0, 0, 0] # две вертикальные совпадающие линии\n",
    "# a, b, c, d, e, f = [0, 0, 1, 0, 0, 0] # вертикальная линия и вся плоскость сл. 1\n",
    "# a, b, c, d, e, f = [1, 0, 0, 0, 0, 0] # вертикальная линия и вся плоскость сл. 2\n",
    "\n",
    "# a, b, c, d, e, f = [0, 1, 0, 3, 1, 3] # две горизонтальные совпадающие линии\n",
    "# a, b, c, d, e, f = [0, 1, 0, 4, 0, 0] # две горизонтальные совпадающие линии\n",
    "# a, b, c, d, e, f = [0, 1, 0, 0, 0, 0] # горизонтальная линия и вся плоскость сл. 1\n",
    "# a, b, c, d, e, f = [0, 0, 0, 1, 0, 0] # горизонтальная линия и вся плоскость сл. 2\n",
    "\n",
    "# a, b, c, d, e, f = [0, 0, 0, 0, 0, 0] # любые пары чисел (для обоих уравнений)\n",
    "\n",
    "# a, b, c, d, e, f = [2, 1, 2, -2, 0, 5] # единственное решение\n",
    "\n",
    "# a = int(input())\n",
    "# b = int(input())\n",
    "# c = int(input())\n",
    "# d = int(input())\n",
    "# e = int(input())\n",
    "# f = int(input())\n",
    "\n",
    "no_roots = 0\n",
    "kx_roots = 1\n",
    "one_xy_root = 2\n",
    "one_x = 3\n",
    "one_y = 4\n",
    "inf_roots = 5\n",
    "\n",
    "det = a * d - b * c\n",
    "det_x = e * d - b * f\n",
    "det_y = a * f - e * c\n",
    "x_null = a == 0 and c == 0\n",
    "y_null = b == 0 and d == 0\n",
    "\n",
    "if det != 0:\n",
    "    x = det_x / det\n",
    "    y = det_y / det\n",
    "    print(one_xy_root, x, y)\n",
    "else:\n",
    "    if det_x == 0 and det_y == 0:\n",
    "        if x_null and y_null:\n",
    "            if e != 0 or f != 0:\n",
    "                print(no_roots)\n",
    "            else:\n",
    "                print(inf_roots)\n",
    "        elif x_null:\n",
    "            if b != 0:\n",
    "                y = e / b\n",
    "            else:\n",
    "                y = f / d\n",
    "            print(one_y, y)\n",
    "        elif y_null:\n",
    "            if a != 0:\n",
    "                x = e / a\n",
    "            else:\n",
    "                x = f / c\n",
    "            print(one_x, x)\n",
    "        else:\n",
    "            if b != 0:\n",
    "                bi = e / b\n",
    "                k = -a / b\n",
    "            else:\n",
    "                bi = f / d\n",
    "                k = -c / d\n",
    "            print(kx_roots, k, bi)\n",
    "    else:\n",
    "        print(no_roots)"
   ]
  }
 ],
 "metadata": {
  "kernelspec": {
   "display_name": "Python 3 (ipykernel)",
   "language": "python",
   "name": "python3"
  },
  "language_info": {
   "codemirror_mode": {
    "name": "ipython",
    "version": 3
   },
   "file_extension": ".py",
   "mimetype": "text/x-python",
   "name": "python",
   "nbconvert_exporter": "python",
   "pygments_lexer": "ipython3",
   "version": "3.9.7"
  }
 },
 "nbformat": 4,
 "nbformat_minor": 5
}
