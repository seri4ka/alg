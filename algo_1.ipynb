{
 "cells": [
  {
   "cell_type": "code",
   "execution_count": 1,
   "id": "8cb7f76b-943a-4cd0-927c-62685244e9ae",
   "metadata": {},
   "outputs": [],
   "source": [
    "import numpy as np\n",
    "import pandas as pd\n",
    "import matplotlib.pyplot as plt\n",
    "\n",
    "import time"
   ]
  },
  {
   "cell_type": "markdown",
   "id": "020c775c-aedf-49fc-86d7-bedc7dbeff87",
   "metadata": {},
   "source": [
    "# Сложность алгоритмов"
   ]
  },
  {
   "cell_type": "code",
   "execution_count": 2,
   "id": "1cbea29f-8f14-4e10-96cd-6c2a03b2d393",
   "metadata": {},
   "outputs": [
    {
     "name": "stdout",
     "output_type": "stream",
     "text": [
      "CPU times: user 15.5 ms, sys: 222 µs, total: 15.7 ms\n",
      "Wall time: 15.6 ms\n"
     ]
    }
   ],
   "source": [
    "%%time\n",
    "for i in range(1000000):\n",
    "    pass"
   ]
  },
  {
   "cell_type": "code",
   "execution_count": 3,
   "id": "6d046fb9-7d38-43d2-8b0c-931b2aeb17f7",
   "metadata": {},
   "outputs": [
    {
     "data": {
      "image/png": "[encoded data removed]",
      "text/plain": [
       "<Figure size 640x480 with 1 Axes>"
      ]
     },
     "metadata": {},
     "output_type": "display_data"
    }
   ],
   "source": [
    "times = []\n",
    "\n",
    "for n in [2**i for i in range(1, 10)]:\n",
    "    start = time.time()\n",
    "    for i in range(n):\n",
    "        for j in range(n):\n",
    "            pass\n",
    "    for i in range(10000*n):\n",
    "        pass\n",
    "    end = time.time()\n",
    "    times.append(end - start)\n",
    "    \n",
    "plt.plot(times);"
   ]
  },
  {
   "cell_type": "code",
   "execution_count": 4,
   "id": "96b69085-d2d7-4d3d-9b7c-d75589da1393",
   "metadata": {},
   "outputs": [],
   "source": [
    "# window operations\n",
    "# complexity of alpha"
   ]
  },
  {
   "cell_type": "markdown",
   "id": "15dcb306-42ea-42aa-9854-3aa83dffa063",
   "metadata": {},
   "source": [
    "# Задача \"Самый частый символ\"\n",
    "Дана строка. Найти самый частый встречающийся в ней символ. Если несколько символов встречаются одинаково часто, вывести любой из них."
   ]
  },
  {
   "cell_type": "code",
   "execution_count": 5,
   "id": "ad8e3e4b-8b2f-4ce9-8991-5fd1c7d8a438",
   "metadata": {},
   "outputs": [
    {
     "data": {
      "text/plain": [
       "'a'"
      ]
     },
     "execution_count": 5,
     "metadata": {},
     "output_type": "execute_result"
    }
   ],
   "source": [
    "s = 'ababa'\n",
    "\n",
    "def find_symb(s):\n",
    "    ans = ''\n",
    "    for elem1 in s:\n",
    "        cnt = 0\n",
    "        max_cnt = 0\n",
    "        for elem2 in s:\n",
    "            if elem1 == elem2:\n",
    "                cnt += 1\n",
    "            if cnt > max_cnt:\n",
    "                ans = elem1\n",
    "                max_cnt = cnt\n",
    "    return ans\n",
    "\n",
    "find_symb(s)"
   ]
  },
  {
   "cell_type": "code",
   "execution_count": 6,
   "id": "3f958bda-1680-4149-ac64-30579a674f0f",
   "metadata": {},
   "outputs": [
    {
     "data": {
      "text/plain": [
       "'b'"
      ]
     },
     "execution_count": 6,
     "metadata": {},
     "output_type": "execute_result"
    }
   ],
   "source": [
    "s = 'ababa'\n",
    "# O(N*K)\n",
    "\n",
    "def find_symb(s):\n",
    "    ans = ''\n",
    "    for elem1 in set(s):\n",
    "        cnt = 0\n",
    "        max_cnt = 0\n",
    "        for elem2 in s:\n",
    "            if elem1 == elem2:\n",
    "                cnt += 1\n",
    "            if cnt > max_cnt:\n",
    "                ans = elem1\n",
    "                max_cnt = cnt\n",
    "    return ans\n",
    "\n",
    "find_symb(s)"
   ]
  },
  {
   "cell_type": "code",
   "execution_count": 7,
   "id": "28aafc68-790e-41bb-b925-f196173b7518",
   "metadata": {},
   "outputs": [
    {
     "data": {
      "text/plain": [
       "'a'"
      ]
     },
     "execution_count": 7,
     "metadata": {},
     "output_type": "execute_result"
    }
   ],
   "source": [
    "s = 'ababa'\n",
    "# O(N+K)\n",
    "\n",
    "def find_symb(s):\n",
    "    ans = ''\n",
    "    lib = {}\n",
    "    for elem in s:\n",
    "        if elem not in lib:\n",
    "            lib[elem] = 0\n",
    "        lib[elem] += 1\n",
    "    max_cnt = 0\n",
    "    for key in lib:\n",
    "        if lib[key] > max_cnt:\n",
    "            max_cnt = lib[key]\n",
    "            ans = key\n",
    "    return ans\n",
    "\n",
    "find_symb(s)"
   ]
  },
  {
   "cell_type": "markdown",
   "id": "23c4adf0-9757-4da7-8cd3-bf37c16bc056",
   "metadata": {},
   "source": [
    "# Задача \"Квадратное уравнение\"\n",
    "Даны три целых числа a, b, c. Найти все корни уравнения $ax^2+bx+c=0$ и вывести в порядке возрастания."
   ]
  },
  {
   "cell_type": "code",
   "execution_count": 8,
   "id": "6359063f-7cfa-4cb8-8489-b7e0a4c3894b",
   "metadata": {},
   "outputs": [
    {
     "data": {
      "text/plain": [
       "(-0.41421356237309515, 2.414213562373095)"
      ]
     },
     "execution_count": 8,
     "metadata": {},
     "output_type": "execute_result"
    }
   ],
   "source": [
    "def find_solutions(a,b,c):\n",
    "    D = b**2 - 4*a*c\n",
    "    if D >= 0:\n",
    "        x_1, x_2 = (-b - np.sqrt(D)) / (2*a), (-b + np.sqrt(D)) / (2*a)\n",
    "        if D == 0: return x_1\n",
    "    elif a == 0:\n",
    "        return -c/b\n",
    "    elif a == 0 and b == 0:\n",
    "        if c == 0:\n",
    "            return('any solution')\n",
    "        elif c != 0:\n",
    "            return('no solutions')\n",
    "    else:\n",
    "        return('no solutions')\n",
    "    return min(x_1, x_2), max(x_1, x_2)\n",
    "\n",
    "find_solutions(-1,2,1)"
   ]
  },
  {
   "cell_type": "markdown",
   "id": "bfd08adb-7d29-4d7e-a25e-891a218c51d8",
   "metadata": {},
   "source": [
    "# Задача \"Размен\"\n",
    "\n",
    "Переведите определенное количество денег в данные номиналы, используя как можно меньше монет.\n",
    "\n",
    "1. Входные данные: \n",
    "Целое число money и массив из d номиналов $c=(c_1, ..., c_d) $ в порядке убывания $(c_1>...>c_d)$.\n",
    "2. Выходные данные: \n",
    "Список из $d$ целых чисел $i_1, ..., i_d$, в котором $c_1*i_1+...c_d*i_d=money$ и $i_1+...i_d$ как можно меньше."
   ]
  },
  {
   "cell_type": "code",
   "execution_count": 9,
   "id": "043baed8-c5e3-4afd-a7ba-af8900a453c4",
   "metadata": {},
   "outputs": [],
   "source": [
    "money = 40\n",
    "c = [25, 20, 10, 5, 1]\n",
    "# 1, 2, 4, 8, 40\n",
    "# money / c[i],  money**len(c) -> O(c^n)"
   ]
  },
  {
   "cell_type": "code",
   "execution_count": 10,
   "id": "c1c33222-bd3e-4d8e-8b9b-86500487cb6b",
   "metadata": {},
   "outputs": [
    {
     "data": {
      "text/plain": [
       "[1, 0, 1, 1, 0]"
      ]
     },
     "execution_count": 10,
     "metadata": {},
     "output_type": "execute_result"
    }
   ],
   "source": [
    "def give_change(money, c):\n",
    "    idx = 0\n",
    "    ans = [0 for i in range(len(c))]\n",
    "    while money > 0: # and idx < len(c):\n",
    "        if money >= c[idx]:\n",
    "            money = money - c[idx]\n",
    "            ans[idx] += 1\n",
    "        else:\n",
    "            idx += 1\n",
    "    return ans\n",
    "\n",
    "give_change(money, c)"
   ]
  },
  {
   "cell_type": "code",
   "execution_count": 11,
   "id": "8447e84c-0585-4e4f-ac99-bf087017d494",
   "metadata": {},
   "outputs": [
    {
     "name": "stdout",
     "output_type": "stream",
     "text": [
      "(1, 2, 3)\n",
      "(1, 3, 2)\n",
      "(2, 1, 3)\n",
      "(2, 3, 1)\n",
      "(3, 1, 2)\n",
      "(3, 2, 1)\n"
     ]
    }
   ],
   "source": [
    "import itertools\n",
    "c = [1,2,3]\n",
    "\n",
    "for elem in itertools.permutations(c, r=None):\n",
    "    print(elem)"
   ]
  },
  {
   "cell_type": "markdown",
   "id": "0941210f-a802-4bcf-9e98-b2537078ce82",
   "metadata": {},
   "source": [
    "# Домашка"
   ]
  },
  {
   "cell_type": "markdown",
   "id": "949d8a25-7159-474a-8972-9141ea2ec18b",
   "metadata": {},
   "source": [
    "## 1 балл\n",
    "\n",
    "1. Привести пример альфы и указать сложность алгоритма и пространственную сложность для нее (по элементно и асимптотическую)\n",
    "2. Даны три натуральных числа. Возможно ли построить треугольник с такими сторонами. Если это возможно, выведите строку YES, иначе выведите строку NO. Треугольник — это три точки, не лежащие на одной прямой.\n",
    "3. Решите в целых числах уравнение: $\\sqrt{ax+b} = c$. a, b, c -- данные целые числа. Найти все решения или сообщить, что решений в целых числах нет."
   ]
  },
  {
   "cell_type": "markdown",
   "id": "05656611-6cc8-41af-8eb0-79dd09308f68",
   "metadata": {},
   "source": [
    "____"
   ]
  },
  {
   "cell_type": "markdown",
   "id": "e93493ce-c80f-403a-96ef-a16c930d35cd",
   "metadata": {},
   "source": [
    "## 2 балла"
   ]
  },
  {
   "cell_type": "markdown",
   "id": "7bd7c03a-7de1-4949-992b-c00db55d716f",
   "metadata": {},
   "source": [
    "4. Бригада скорой помощи выехала по вызову в один из отделенных районов. К сожалению, когда диспетчер получил вызов, он успел записать только адрес дома и номер квартиры K1, а затем связь прервалась. Однако он вспомнил, что по этому же адресу дома некоторое время назад скорая помощь выезжала в квартиру K2, которая расположена в подъезда P2 на этаже N2. Известно, что в доме M этажей и количество квартир на каждой лестничной площадке одинаково. Напишите программу, которая вычилсяет номер подъезда P1 и номер этажа N1 квартиры K1.\n",
    "\n",
    "## Формат ввода\n",
    "\n",
    "Во входном файле записаны пять положительных целых чисел K1, M, K2, P2, N2. Все числа не превосходят 10^6.\n",
    "\n",
    "## Формат вывода\n",
    "\n",
    "Выведите два числа P1 и N1. Если входные данные не позволяют однозначно определить P1 или N1, вместо соответствующего числа напечатайте 0. Если входные данные противоречивы, напечатайте два числа –1 (минус один).\n",
    "\n",
    "### Пример 1\n",
    "\n",
    "Ввод: 89 20 41 1 11\n",
    "Вывод: 2 3\n",
    "\n",
    "### Пример 2\n",
    "\n",
    "Ввод: 11 1 1 1 1\n",
    "Вывод: 0 1\n",
    "\n",
    "### Пример 3\n",
    "\n",
    "Ввод: 3 2 2 2 1\n",
    "Вывод: -1 -1"
   ]
  },
  {
   "cell_type": "markdown",
   "id": "e0a59c15-02d8-48ac-bacb-ddbb2d22c216",
   "metadata": {},
   "source": [
    "____"
   ]
  },
  {
   "cell_type": "markdown",
   "id": "6637b73d-b9bc-4afc-991a-85747046663a",
   "metadata": {},
   "source": [
    "5. Имеется N кг металлического сплава. Из него изготавливают заготовки массой K кг каждая. После этого из каждой заготовки вытачиваются детали массой M кг каждая (из каждой заготовки вытачивают максимально возможное количество деталей). Если от заготовок после этого что-то остается, то этот материал возвращают к началу производственного цикла и сплавляют с тем, что осталось при изготовлении заготовок. Если того сплава, который получился, достаточно для изготовления хотя бы одной заготовки, то из него снова изготавливают заготовки, из них – детали и т.д. Напишите программу, которая вычислит, какое количество деталей может быть получено по этой технологии из имеющихся исходно N кг сплава.\n",
    "\n",
    "## Формат ввода\n",
    "\n",
    "Вводятся N, K, M. Все числа натуральные и не превосходят 200.\n",
    "\n",
    "## Формат вывода\n",
    "\n",
    "Выведите одно число — количество деталей, которое может получиться по такой технологии.\n",
    "\n",
    "\n",
    "\n",
    "### Пример 1\n",
    "\n",
    "Ввод: 10 5 2\n",
    "Вывод: 4\n",
    "\n",
    "### Пример 2\n",
    "\n",
    "Ввод: 13 5 3\n",
    "Вывод: 3\n",
    "\n",
    "### Пример 3\n",
    "\n",
    "Ввод: 14 5 3\n",
    "Вывод: 4"
   ]
  },
  {
   "cell_type": "markdown",
   "id": "51003ff4-9b7c-415c-8750-11233810db29",
   "metadata": {},
   "source": [
    "____"
   ]
  },
  {
   "cell_type": "markdown",
   "id": "215882b2-8dc4-4c7c-b380-ac0a01bfb221",
   "metadata": {},
   "source": [
    "5. За многие годы заточения узник замка Иф проделал в стене прямоугольное отверстие размером D × E. Замок Иф сложен из кирпичей, размером A × B × C. Определите, сможет ли узник выбрасывать кирпичи в море через это отверстие, если стороны кирпича должны быть параллельны сторонам отверстия.\n",
    "\n",
    "## Формат ввода\n",
    "\n",
    "Программа получает на вход числа A, B, C, D, E.\n",
    "\n",
    "## Формат вывода\n",
    "\n",
    "Программа должна вывести слово YES или NO.\n",
    "\n",
    "### Пример 1\n",
    "\n",
    "Ввод: 1 1 1 1 1 (построчно)\n",
    "\n",
    "Вывод: YES\n",
    "\n",
    "### Пример 2\n",
    "\n",
    "Ввод: 2 2 2 1 1 (построчно)\n",
    "Вывод: NO"
   ]
  },
  {
   "cell_type": "markdown",
   "id": "a9b48d13-b4ca-445e-956b-e9458ba64e60",
   "metadata": {},
   "source": [
    "____"
   ]
  },
  {
   "cell_type": "markdown",
   "id": "f4fa9fd1-1127-448c-844a-185fe1ed128e",
   "metadata": {},
   "source": [
    "6. Даны числа $a,b,c,d,e,f$. Решить систему линейных уравнений:\n",
    "\n",
    "$ax+by=e\\\\ cx+dy=f$\n",
    "\n",
    "Учесть все возможные случаи."
   ]
  }
 ],
 "metadata": {
  "kernelspec": {
   "display_name": "Python 3 (ipykernel)",
   "language": "python",
   "name": "python3"
  },
  "language_info": {
   "codemirror_mode": {
    "name": "ipython",
    "version": 3
   },
   "file_extension": ".py",
   "mimetype": "text/x-python",
   "name": "python",
   "nbconvert_exporter": "python",
   "pygments_lexer": "ipython3",
   "version": "3.10.8"
  }
 },
 "nbformat": 4,
 "nbformat_minor": 5
}
